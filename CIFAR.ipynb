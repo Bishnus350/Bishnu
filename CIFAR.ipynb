{
 "cells": [
  {
   "cell_type": "code",
   "execution_count": 1,
   "id": "d3cc447c",
   "metadata": {},
   "outputs": [
    {
     "name": "stderr",
     "output_type": "stream",
     "text": [
      "2022-08-31 13:35:09.908863: W tensorflow/stream_executor/platform/default/dso_loader.cc:64] Could not load dynamic library 'libcudart.so.11.0'; dlerror: libcudart.so.11.0: cannot open shared object file: No such file or directory\n",
      "2022-08-31 13:35:09.908884: I tensorflow/stream_executor/cuda/cudart_stub.cc:29] Ignore above cudart dlerror if you do not have a GPU set up on your machine.\n"
     ]
    }
   ],
   "source": [
    "import sklearn\n",
    "import keras\n",
    "import matplotlib.pyplot as plt \n",
    "import seaborn as sns \n",
    "import tensorflow as tf\n",
    "from tensorflow.keras.callbacks import TensorBoard\n",
    "from keras.models import Sequential\n",
    "from keras.layers import Dense, Conv2D, MaxPooling2D, Flatten, Dropout, Activation\n",
    "from keras.preprocessing.image import ImageDataGenerator\n",
    "from keras.optimizers import Adam\n",
    "import tensorflow_datasets as tfds\n",
    "import os"
   ]
  },
  {
   "cell_type": "code",
   "execution_count": 2,
   "id": "32322632",
   "metadata": {},
   "outputs": [],
   "source": [
    "# Hyper Parameter\n",
    "batch_size = 64\n",
    "num_classes = 10\n",
    "epochs = 10"
   ]
  },
  {
   "cell_type": "code",
   "execution_count": 3,
   "id": "45b772f6",
   "metadata": {},
   "outputs": [],
   "source": [
    "# loading cifar10 datasets \n",
    "def load_data ():\n",
    "    def preprocess_image(image, label):\n",
    "        image = tf.image.convert_image_dtype (image, tf.float32)\n",
    "        return image, label\n",
    "    ds_train, info = tfds.load (\"cifar10\", with_info = True, split = \"train\", as_supervised = True)\n",
    "    ds_test = tfds.load (\"cifar10\", split = \"test\", as_supervised = True)\n",
    "    \n",
    "#repeat datasets forever, shuffle, preprocess, split by batch \n",
    "    ds_train = ds_train.repeat (). shuffle (1024).map (preprocess_image).batch (batch_size)\n",
    "    ds_test = ds_test.repeat (). shuffle (1024).map (preprocess_image).batch (batch_size)\n",
    "    return ds_train, ds_test, info"
   ]
  },
  {
   "cell_type": "markdown",
   "id": "b39622d3",
   "metadata": {},
   "source": [
    "construction of the model "
   ]
  },
  {
   "cell_type": "markdown",
   "id": "a9fa5e1a",
   "metadata": {},
   "source": [
    "#Construction of the model"
   ]
  },
  {
   "cell_type": "code",
   "execution_count": 4,
   "id": "53f2979e",
   "metadata": {},
   "outputs": [],
   "source": [
    "def create_model (input_shape):\n",
    "    # building the moddel \n",
    "    model = Sequential ()\n",
    "    model.add (Conv2D (filters = 32, kernel_size = (3,3), padding = 'same', input_shape = input_shape))\n",
    "    model.add (Activation ( 'relu'))\n",
    "    model.add (Conv2D (filters = 32, kernel_size = (3,3), padding = 'same'))\n",
    "    model.add (Activation ( 'relu'))\n",
    "    #\n",
    "    model.add (MaxPooling2D (pool_size = (2, 2)))\n",
    "    model.add (Dropout (0.25))\n",
    "    model.add (Conv2D (filters = 64, kernel_size = (3,3), padding = 'same'))\n",
    "    model.add (Activation ( 'relu'))\n",
    "    model.add (Conv2D (filters = 64, kernel_size = (3,3), padding = 'same'))\n",
    "    model.add (Activation ( 'relu'))\n",
    "    model.add (MaxPooling2D (pool_size = (2, 2)))\n",
    "    model.add (Dropout (0.25))\n",
    "    model.add (Conv2D (filters= 128, kernel_size = (3,3), padding = 'same'))\n",
    "    model.add (Activation ('relu'))\n",
    "    model.add (Conv2D (filters= 128, kernel_size = (3,3), padding = 'same'))\n",
    "    model.add (Activation ('relu'))\n",
    "    model.add (MaxPooling2D (pool_size = (2, 2)))\n",
    "    model.add (Dropout (0.25))\n",
    "    #flattening the convolution \n",
    "    model.add (Flatten ())\n",
    "    \n",
    "    # fully connected layer \n",
    "    model.add (Dense (1024))\n",
    "    model.add(Activation ('relu'))\n",
    "    model.add (Dropout (0.5))\n",
    "    model.add (Dense (num_classes, activation = 'softmax'))\n",
    "    model.summary ()\n",
    "    # training the model \n",
    "    model.compile (loss = 'sparse_categorical_crossentropy', optimizer = 'adam', metrics = ['accuracy'])\n",
    "    return model"
   ]
  },
  {
   "cell_type": "markdown",
   "id": "eddd4eb2",
   "metadata": {},
   "source": [
    "Training the model "
   ]
  },
  {
   "cell_type": "code",
   "execution_count": null,
   "id": "5fc7ac73",
   "metadata": {},
   "outputs": [
    {
     "name": "stderr",
     "output_type": "stream",
     "text": [
      "2022-08-31 13:35:31.959870: W tensorflow/stream_executor/platform/default/dso_loader.cc:64] Could not load dynamic library 'libcuda.so.1'; dlerror: libcuda.so.1: cannot open shared object file: No such file or directory\n",
      "2022-08-31 13:35:31.959888: W tensorflow/stream_executor/cuda/cuda_driver.cc:269] failed call to cuInit: UNKNOWN ERROR (303)\n",
      "2022-08-31 13:35:31.959899: I tensorflow/stream_executor/cuda/cuda_diagnostics.cc:156] kernel driver does not appear to be running on this host (bishnu-ncuastro): /proc/driver/nvidia/version does not exist\n",
      "2022-08-31 13:35:31.976540: I tensorflow/core/platform/cpu_feature_guard.cc:193] This TensorFlow binary is optimized with oneAPI Deep Neural Network Library (oneDNN) to use the following CPU instructions in performance-critical operations:  AVX2 FMA\n",
      "To enable them in other operations, rebuild TensorFlow with the appropriate compiler flags.\n"
     ]
    },
    {
     "name": "stdout",
     "output_type": "stream",
     "text": [
      "Model: \"sequential\"\n",
      "_________________________________________________________________\n",
      " Layer (type)                Output Shape              Param #   \n",
      "=================================================================\n",
      " conv2d (Conv2D)             (None, 32, 32, 32)        896       \n",
      "                                                                 \n",
      " activation (Activation)     (None, 32, 32, 32)        0         \n",
      "                                                                 \n",
      " conv2d_1 (Conv2D)           (None, 32, 32, 32)        9248      \n",
      "                                                                 \n",
      " activation_1 (Activation)   (None, 32, 32, 32)        0         \n",
      "                                                                 \n",
      " max_pooling2d (MaxPooling2D  (None, 16, 16, 32)       0         \n",
      " )                                                               \n",
      "                                                                 \n",
      " dropout (Dropout)           (None, 16, 16, 32)        0         \n",
      "                                                                 \n",
      " conv2d_2 (Conv2D)           (None, 16, 16, 64)        18496     \n",
      "                                                                 \n",
      " activation_2 (Activation)   (None, 16, 16, 64)        0         \n",
      "                                                                 \n",
      " conv2d_3 (Conv2D)           (None, 16, 16, 64)        36928     \n",
      "                                                                 \n",
      " activation_3 (Activation)   (None, 16, 16, 64)        0         \n",
      "                                                                 \n",
      " max_pooling2d_1 (MaxPooling  (None, 8, 8, 64)         0         \n",
      " 2D)                                                             \n",
      "                                                                 \n",
      " dropout_1 (Dropout)         (None, 8, 8, 64)          0         \n",
      "                                                                 \n",
      " conv2d_4 (Conv2D)           (None, 8, 8, 128)         73856     \n",
      "                                                                 \n",
      " activation_4 (Activation)   (None, 8, 8, 128)         0         \n",
      "                                                                 \n",
      " conv2d_5 (Conv2D)           (None, 8, 8, 128)         147584    \n",
      "                                                                 \n",
      " activation_5 (Activation)   (None, 8, 8, 128)         0         \n",
      "                                                                 \n",
      " max_pooling2d_2 (MaxPooling  (None, 4, 4, 128)        0         \n",
      " 2D)                                                             \n",
      "                                                                 \n",
      " dropout_2 (Dropout)         (None, 4, 4, 128)         0         \n",
      "                                                                 \n",
      " flatten (Flatten)           (None, 2048)              0         \n",
      "                                                                 \n",
      " dense (Dense)               (None, 1024)              2098176   \n",
      "                                                                 \n",
      " activation_6 (Activation)   (None, 1024)              0         \n",
      "                                                                 \n",
      " dropout_3 (Dropout)         (None, 1024)              0         \n",
      "                                                                 \n",
      " dense_1 (Dense)             (None, 10)                10250     \n",
      "                                                                 \n",
      "=================================================================\n",
      "Total params: 2,395,434\n",
      "Trainable params: 2,395,434\n",
      "Non-trainable params: 0\n",
      "_________________________________________________________________\n",
      "Epoch 1/10\n",
      "781/781 [==============================] - 61s 76ms/step - loss: 1.6223 - accuracy: 0.3974 - val_loss: 1.2644 - val_accuracy: 0.5394\n",
      "Epoch 2/10\n",
      "781/781 [==============================] - 60s 77ms/step - loss: 1.1584 - accuracy: 0.5859 - val_loss: 0.9484 - val_accuracy: 0.6661\n",
      "Epoch 3/10\n",
      "781/781 [==============================] - 62s 79ms/step - loss: 0.9800 - accuracy: 0.6532 - val_loss: 0.8778 - val_accuracy: 0.6955\n",
      "Epoch 4/10\n",
      "781/781 [==============================] - 60s 77ms/step - loss: 0.8767 - accuracy: 0.6921 - val_loss: 0.7744 - val_accuracy: 0.7277\n",
      "Epoch 5/10\n",
      "781/781 [==============================] - 61s 78ms/step - loss: 0.8024 - accuracy: 0.7178 - val_loss: 0.7383 - val_accuracy: 0.7454\n",
      "Epoch 6/10\n",
      "781/781 [==============================] - 59s 76ms/step - loss: 0.7383 - accuracy: 0.7400 - val_loss: 0.7059 - val_accuracy: 0.7572\n",
      "Epoch 7/10\n",
      "781/781 [==============================] - 61s 78ms/step - loss: 0.7068 - accuracy: 0.7522 - val_loss: 0.6847 - val_accuracy: 0.7667\n",
      "Epoch 8/10\n",
      " 29/781 [>.............................] - ETA: 51s - loss: 0.6270 - accuracy: 0.7786"
     ]
    }
   ],
   "source": [
    "if __name__ == '__main__':\n",
    "    # load the data \n",
    "    ds_train, ds_test, info = load_data ()\n",
    "    # construct the model \n",
    "    model = create_model (input_shape = info.features ['image'].shape )\n",
    "    #some nice callbacks \n",
    "    logdir = os.path.join ('logs', 'cifar10-v1')\n",
    "    tensorboard = TensorBoard (log_dir = logdir)\n",
    "    \n",
    "    #make sure the results folder exists \n",
    "    if not os.path.isdir (\"results\"):\n",
    "        os.mkdir ('results')\n",
    "        \n",
    "    # train \n",
    "    model.fit (ds_train, epochs = epochs, validation_data = ds_test, verbose = 1,\n",
    "              steps_per_epoch = info.splits [\"train\"].num_examples // batch_size,\n",
    "              validation_steps = info.splits [\"train\"].num_examples // batch_size,\n",
    "              callbacks = [tensorboard])\n",
    "    # save the model \n",
    "    model.save (\"cifar.h5\")"
   ]
  },
  {
   "cell_type": "code",
   "execution_count": null,
   "id": "38d6a470",
   "metadata": {},
   "outputs": [],
   "source": [
    "#tensorboard --logdir=\"logs\""
   ]
  },
  {
   "cell_type": "code",
   "execution_count": 7,
   "id": "371071ca",
   "metadata": {},
   "outputs": [
    {
     "name": "stdout",
     "output_type": "stream",
     "text": [
      "Requirement already satisfied: train in /home/bishnu/anaconda3/lib/python3.9/site-packages (0.0.5)\n",
      "Requirement already satisfied: numpy in /home/bishnu/anaconda3/lib/python3.9/site-packages (from train) (1.20.3)\n",
      "Note: you may need to restart the kernel to use updated packages.\n"
     ]
    }
   ],
   "source": [
    "#pip install train\n"
   ]
  },
  {
   "cell_type": "code",
   "execution_count": 9,
   "id": "22204290",
   "metadata": {},
   "outputs": [],
   "source": [
    "#from train import load_data, batch_size \n",
    "from tensorflow.keras.models import load_model\n",
    "import matplotlib.pyplot as plt \n",
    "import numpy as np\n"
   ]
  },
  {
   "cell_type": "code",
   "execution_count": 10,
   "id": "dcb5d07f",
   "metadata": {},
   "outputs": [],
   "source": [
    "categories = {\n",
    "    0: \"airplane\",\n",
    "    1: \"automobile\",\n",
    "    2: \"bird\",\n",
    "    3: \"cat\",\n",
    "    4: \"deer\",\n",
    "    5: \"dog\",\n",
    "    6: \"frog\",\n",
    "    7: \"horse\",\n",
    "    8: \"ship\",\n",
    "    9: \"truck\"\n",
    "}"
   ]
  },
  {
   "cell_type": "code",
   "execution_count": 13,
   "id": "0dccb971",
   "metadata": {},
   "outputs": [],
   "source": [
    "# load the testing set\n",
    "ds_train, ds_test, info = load_data()\n",
    "# load the model with final model weights\n",
    "model = load_model(\"/home/bishnu/Desktop/ML/cifar.h5\")"
   ]
  },
  {
   "cell_type": "code",
   "execution_count": null,
   "id": "e475f6a7",
   "metadata": {},
   "outputs": [],
   "source": []
  },
  {
   "cell_type": "code",
   "execution_count": 24,
   "id": "5db6117d",
   "metadata": {},
   "outputs": [
    {
     "name": "stdout",
     "output_type": "stream",
     "text": [
      "1/1 [==============================] - 0s 11ms/step\n",
      "Predicted label: bird\n",
      "True label: bird\n"
     ]
    },
    {
     "name": "stderr",
     "output_type": "stream",
     "text": [
      "2022-08-31 12:06:59.218717: W tensorflow/core/kernels/data/cache_dataset_ops.cc:856] The calling iterator did not fully read the dataset being cached. In order to avoid unexpected truncation of the dataset, the partially cached contents of the dataset  will be discarded. This can happen if you have an input pipeline similar to `dataset.cache().take(k).repeat()`. You should use `dataset.take(k).cache().repeat()` instead.\n"
     ]
    }
   ],
   "source": [
    "# get prediction for this image\n",
    "data_sample = next(iter(ds_test))\n",
    "sample_image = data_sample[0].numpy()[0]\n",
    "sample_label = categories[data_sample[1].numpy()[0]]\n",
    "prediction = np.argmax(model.predict(sample_image.reshape(-1, *sample_image.shape))[0])\n",
    "print(\"Predicted label:\", categories[prediction])\n",
    "print(\"True label:\", sample_label)"
   ]
  },
  {
   "cell_type": "code",
   "execution_count": 25,
   "id": "a0bcae54",
   "metadata": {},
   "outputs": [
    {
     "data": {
      "image/png": "[encoded data removed]",
      "text/plain": [
       "<Figure size 432x288 with 1 Axes>"
      ]
     },
     "metadata": {
      "needs_background": "light"
     },
     "output_type": "display_data"
    }
   ],
   "source": [
    "# show the image\n",
    "plt.axis('off')\n",
    "plt.imshow(sample_image)\n",
    "plt.show()"
   ]
  },
  {
   "cell_type": "code",
   "execution_count": null,
   "id": "c11eda03",
   "metadata": {},
   "outputs": [],
   "source": []
  },
  {
   "cell_type": "code",
   "execution_count": null,
   "id": "36e7bbca",
   "metadata": {},
   "outputs": [],
   "source": []
  }
 ],
 "metadata": {
  "kernelspec": {
   "display_name": "Python 3 (ipykernel)",
   "language": "python",
   "name": "python3"
  },
  "language_info": {
   "codemirror_mode": {
    "name": "ipython",
    "version": 3
   },
   "file_extension": ".py",
   "mimetype": "text/x-python",
   "name": "python",
   "nbconvert_exporter": "python",
   "pygments_lexer": "ipython3",
   "version": "3.9.7"
  }
 },
 "nbformat": 4,
 "nbformat_minor": 5
}
